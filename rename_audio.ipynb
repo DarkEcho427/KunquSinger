{
 "cells": [
  {
   "cell_type": "code",
   "execution_count": 4,
   "id": "6a9ebb35",
   "metadata": {},
   "outputs": [],
   "source": [
    "import os\n",
    "import shutil\n",
    "import glob\n",
    "from collections import defaultdict"
   ]
  },
  {
   "cell_type": "code",
   "execution_count": 7,
   "id": "1f82edb0",
   "metadata": {},
   "outputs": [
    {
     "name": "stdout",
     "output_type": "stream",
     "text": [
      "45 assets/audio_raw/peak17.5_小生#占花魁·湖楼【玉娇枝】#007 | 正青春盈盈妙年_04hifigan_word.wav\n"
     ]
    }
   ],
   "source": [
    "src_dir = \"assets/audio_raw\"\n",
    "tgt_dir = \"assets/audio\"\n",
    "src_wavs = glob.glob(f\"{src_dir}/*.wav\")\n",
    "print(len(src_wavs), src_wavs[0])"
   ]
  },
  {
   "cell_type": "code",
   "execution_count": 11,
   "id": "f9805a86",
   "metadata": {},
   "outputs": [],
   "source": [
    "src_wav_groups = defaultdict()\n",
    "for i in src_wavs:\n",
    "    tgt_path = os.path.join(tgt_dir, i.split(\" | \")[1])\n",
    "    shutil.copy(i, tgt_path)\n"
   ]
  }
 ],
 "metadata": {
  "kernelspec": {
   "display_name": "doraemon",
   "language": "python",
   "name": "python3"
  },
  "language_info": {
   "codemirror_mode": {
    "name": "ipython",
    "version": 3
   },
   "file_extension": ".py",
   "mimetype": "text/x-python",
   "name": "python",
   "nbconvert_exporter": "python",
   "pygments_lexer": "ipython3",
   "version": "3.11.5"
  }
 },
 "nbformat": 4,
 "nbformat_minor": 5
}
